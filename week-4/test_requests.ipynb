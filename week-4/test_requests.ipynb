{
 "cells": [
  {
   "cell_type": "code",
   "execution_count": 15,
   "id": "2b25bdaa",
   "metadata": {},
   "outputs": [],
   "source": [
    "import uuid\n",
    "import json\n",
    "\n",
    "import requests"
   ]
  },
  {
   "cell_type": "code",
   "execution_count": 30,
   "id": "76a86bdc",
   "metadata": {},
   "outputs": [
    {
     "name": "stdout",
     "output_type": "stream",
     "text": [
      "Unexpected exception formatting exception. Falling back to standard exception\n"
     ]
    },
    {
     "name": "stderr",
     "output_type": "stream",
     "text": [
      "Traceback (most recent call last):\n",
      "  File \"/Users/cheena/PythonProjects/itmo-courses/computer-vision-technology-02/week-4/venv/lib/python3.10/site-packages/urllib3/connection.py\", line 174, in _new_conn\n",
      "    conn = connection.create_connection(\n",
      "  File \"/Users/cheena/PythonProjects/itmo-courses/computer-vision-technology-02/week-4/venv/lib/python3.10/site-packages/urllib3/util/connection.py\", line 95, in create_connection\n",
      "    raise err\n",
      "  File \"/Users/cheena/PythonProjects/itmo-courses/computer-vision-technology-02/week-4/venv/lib/python3.10/site-packages/urllib3/util/connection.py\", line 85, in create_connection\n",
      "    sock.connect(sa)\n",
      "ConnectionRefusedError: [Errno 61] Connection refused\n",
      "\n",
      "During handling of the above exception, another exception occurred:\n",
      "\n",
      "Traceback (most recent call last):\n",
      "  File \"/Users/cheena/PythonProjects/itmo-courses/computer-vision-technology-02/week-4/venv/lib/python3.10/site-packages/urllib3/connectionpool.py\", line 703, in urlopen\n",
      "    httplib_response = self._make_request(\n",
      "  File \"/Users/cheena/PythonProjects/itmo-courses/computer-vision-technology-02/week-4/venv/lib/python3.10/site-packages/urllib3/connectionpool.py\", line 398, in _make_request\n",
      "    conn.request(method, url, **httplib_request_kw)\n",
      "  File \"/Users/cheena/PythonProjects/itmo-courses/computer-vision-technology-02/week-4/venv/lib/python3.10/site-packages/urllib3/connection.py\", line 244, in request\n",
      "    super(HTTPConnection, self).request(method, url, body=body, headers=headers)\n",
      "  File \"/opt/homebrew/Cellar/python@3.10/3.10.9/Frameworks/Python.framework/Versions/3.10/lib/python3.10/http/client.py\", line 1282, in request\n",
      "    self._send_request(method, url, body, headers, encode_chunked)\n",
      "  File \"/opt/homebrew/Cellar/python@3.10/3.10.9/Frameworks/Python.framework/Versions/3.10/lib/python3.10/http/client.py\", line 1328, in _send_request\n",
      "    self.endheaders(body, encode_chunked=encode_chunked)\n",
      "  File \"/opt/homebrew/Cellar/python@3.10/3.10.9/Frameworks/Python.framework/Versions/3.10/lib/python3.10/http/client.py\", line 1277, in endheaders\n",
      "    self._send_output(message_body, encode_chunked=encode_chunked)\n",
      "  File \"/opt/homebrew/Cellar/python@3.10/3.10.9/Frameworks/Python.framework/Versions/3.10/lib/python3.10/http/client.py\", line 1037, in _send_output\n",
      "    self.send(msg)\n",
      "  File \"/opt/homebrew/Cellar/python@3.10/3.10.9/Frameworks/Python.framework/Versions/3.10/lib/python3.10/http/client.py\", line 975, in send\n",
      "    self.connect()\n",
      "  File \"/Users/cheena/PythonProjects/itmo-courses/computer-vision-technology-02/week-4/venv/lib/python3.10/site-packages/urllib3/connection.py\", line 205, in connect\n",
      "    conn = self._new_conn()\n",
      "  File \"/Users/cheena/PythonProjects/itmo-courses/computer-vision-technology-02/week-4/venv/lib/python3.10/site-packages/urllib3/connection.py\", line 186, in _new_conn\n",
      "    raise NewConnectionError(\n",
      "urllib3.exceptions.NewConnectionError: <urllib3.connection.HTTPConnection object at 0x1055172b0>: Failed to establish a new connection: [Errno 61] Connection refused\n",
      "\n",
      "During handling of the above exception, another exception occurred:\n",
      "\n",
      "Traceback (most recent call last):\n",
      "  File \"/Users/cheena/PythonProjects/itmo-courses/computer-vision-technology-02/week-4/venv/lib/python3.10/site-packages/requests/adapters.py\", line 440, in send\n",
      "    resp = conn.urlopen(\n",
      "  File \"/Users/cheena/PythonProjects/itmo-courses/computer-vision-technology-02/week-4/venv/lib/python3.10/site-packages/urllib3/connectionpool.py\", line 787, in urlopen\n",
      "    retries = retries.increment(\n",
      "  File \"/Users/cheena/PythonProjects/itmo-courses/computer-vision-technology-02/week-4/venv/lib/python3.10/site-packages/urllib3/util/retry.py\", line 592, in increment\n",
      "    raise MaxRetryError(_pool, url, error or ResponseError(cause))\n",
      "urllib3.exceptions.MaxRetryError: HTTPConnectionPool(host='0.0.0.0', port=5001): Max retries exceeded with url: /recognize (Caused by NewConnectionError('<urllib3.connection.HTTPConnection object at 0x1055172b0>: Failed to establish a new connection: [Errno 61] Connection refused'))\n",
      "\n",
      "During handling of the above exception, another exception occurred:\n",
      "\n",
      "Traceback (most recent call last):\n",
      "  File \"/Users/cheena/PythonProjects/itmo-courses/computer-vision-technology-02/week-4/venv/lib/python3.10/site-packages/IPython/core/interactiveshell.py\", line 3460, in run_code\n",
      "  File \"/var/folders/lt/ly4nv6pj64q2qwyfvh1kj_8h0000gn/T/ipykernel_35979/3254028718.py\", line 11, in <module>\n",
      "    r = requests.post(url=URL, json=body)\n",
      "  File \"/Users/cheena/PythonProjects/itmo-courses/computer-vision-technology-02/week-4/venv/lib/python3.10/site-packages/requests/api.py\", line 117, in post\n",
      "    return request('post', url, data=data, json=json, **kwargs)\n",
      "  File \"/Users/cheena/PythonProjects/itmo-courses/computer-vision-technology-02/week-4/venv/lib/python3.10/site-packages/requests/api.py\", line 61, in request\n",
      "    return session.request(method=method, url=url, **kwargs)\n",
      "  File \"/Users/cheena/PythonProjects/itmo-courses/computer-vision-technology-02/week-4/venv/lib/python3.10/site-packages/requests/sessions.py\", line 529, in request\n",
      "    resp = self.send(prep, **send_kwargs)\n",
      "  File \"/Users/cheena/PythonProjects/itmo-courses/computer-vision-technology-02/week-4/venv/lib/python3.10/site-packages/requests/sessions.py\", line 645, in send\n",
      "    r = adapter.send(request, **kwargs)\n",
      "  File \"/Users/cheena/PythonProjects/itmo-courses/computer-vision-technology-02/week-4/venv/lib/python3.10/site-packages/requests/adapters.py\", line 519, in send\n",
      "    raise ConnectionError(e, request=request)\n",
      "requests.exceptions.ConnectionError: HTTPConnectionPool(host='0.0.0.0', port=5001): Max retries exceeded with url: /recognize (Caused by NewConnectionError('<urllib3.connection.HTTPConnection object at 0x1055172b0>: Failed to establish a new connection: [Errno 61] Connection refused'))\n",
      "\n",
      "During handling of the above exception, another exception occurred:\n",
      "\n",
      "Traceback (most recent call last):\n",
      "  File \"/Users/cheena/PythonProjects/itmo-courses/computer-vision-technology-02/week-4/venv/lib/python3.10/site-packages/IPython/core/interactiveshell.py\", line 2057, in showtraceback\n",
      "  File \"/Users/cheena/PythonProjects/itmo-courses/computer-vision-technology-02/week-4/venv/lib/python3.10/site-packages/IPython/core/ultratb.py\", line 1288, in structured_traceback\n",
      "  File \"/Users/cheena/PythonProjects/itmo-courses/computer-vision-technology-02/week-4/venv/lib/python3.10/site-packages/IPython/core/ultratb.py\", line 1177, in structured_traceback\n",
      "  File \"/Users/cheena/PythonProjects/itmo-courses/computer-vision-technology-02/week-4/venv/lib/python3.10/site-packages/IPython/core/ultratb.py\", line 1030, in structured_traceback\n",
      "  File \"/Users/cheena/PythonProjects/itmo-courses/computer-vision-technology-02/week-4/venv/lib/python3.10/site-packages/IPython/core/ultratb.py\", line 935, in format_exception_as_a_whole\n",
      "  File \"/Users/cheena/PythonProjects/itmo-courses/computer-vision-technology-02/week-4/venv/lib/python3.10/site-packages/IPython/core/ultratb.py\", line 1003, in get_records\n",
      "  File \"/opt/homebrew/Cellar/python@3.10/3.10.9/Frameworks/Python.framework/Versions/3.10/lib/python3.10/inspect.py\", line 1129, in getsourcelines\n",
      "    lines, lnum = findsource(object)\n",
      "  File \"/opt/homebrew/Cellar/python@3.10/3.10.9/Frameworks/Python.framework/Versions/3.10/lib/python3.10/inspect.py\", line 958, in findsource\n",
      "    raise OSError('could not get source code')\n",
      "OSError: could not get source code\n"
     ]
    }
   ],
   "source": [
    "# api-endpoint\n",
    "URL = \"http://0.0.0.0:5001/recognize\"\n",
    "  \n",
    "# defining a params dict for the parameters to be sent to the API\n",
    "body = {\n",
    "    \"task_id\": str(uuid.uuid4()), \n",
    "    \"image_url\": \"https://upload.wikimedia.org/wikipedia/commons/a/a4/Закат_Паанаярви.jpg\"\n",
    "}\n",
    "  \n",
    "# sending get request and saving the response as response object\n",
    "r = requests.post(url=URL, json=body)\n",
    "  \n",
    "# extracting data in json format\n",
    "data = r.json()"
   ]
  },
  {
   "cell_type": "code",
   "execution_count": 29,
   "id": "40135099",
   "metadata": {},
   "outputs": [
    {
     "data": {
      "text/plain": [
       "[{'recognitions': {'class_probability': 0.99,\n",
       "   'contour_probability': 0.98,\n",
       "   'predicted_class': 'Human',\n",
       "   'x_min': 0,\n",
       "   'width': 100,\n",
       "   'height': 100,\n",
       "   'y_min': 0},\n",
       "  'task_id': '6a6590db-ea2e-4ee8-aa79-a085a2d0813f'}]"
      ]
     },
     "execution_count": 29,
     "metadata": {},
     "output_type": "execute_result"
    }
   ],
   "source": [
    "data"
   ]
  },
  {
   "cell_type": "code",
   "execution_count": null,
   "id": "6de108d3",
   "metadata": {},
   "outputs": [],
   "source": []
  }
 ],
 "metadata": {
  "kernelspec": {
   "display_name": "Python 3 (ipykernel)",
   "language": "python",
   "name": "python3"
  },
  "language_info": {
   "codemirror_mode": {
    "name": "ipython",
    "version": 3
   },
   "file_extension": ".py",
   "mimetype": "text/x-python",
   "name": "python",
   "nbconvert_exporter": "python",
   "pygments_lexer": "ipython3",
   "version": "3.10.9"
  }
 },
 "nbformat": 4,
 "nbformat_minor": 5
}
